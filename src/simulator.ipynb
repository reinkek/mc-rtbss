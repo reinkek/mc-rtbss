{
 "metadata": {
  "language": "Julia",
  "name": "",
  "signature": "sha256:01f64eeae5de58b7fd3a906fe19c1cae02ce222ab522c822d70af60cc53b5ec1"
 },
 "nbformat": 3,
 "nbformat_minor": 0,
 "worksheets": [
  {
   "cells": [
    {
     "cell_type": "code",
     "collapsed": false,
     "input": [
      "using Distributions: MvNormal, pdf\n",
      "using PyPlot: plot, axes"
     ],
     "language": "python",
     "metadata": {},
     "outputs": [
      {
       "output_type": "stream",
       "stream": "stderr",
       "text": [
        "INFO: Loading help data...\n"
       ]
      }
     ],
     "prompt_number": 11
    },
    {
     "cell_type": "code",
     "collapsed": false,
     "input": [
      "rng = 0:0.1:10\n",
      "t = 0.5\n",
      "posT = trajectory(t)\n",
      "axes(aspect=1)\n",
      "plot(cos(rng),sin(rng))\n",
      "plot(posT[1],posT[2],\"ro\")"
     ],
     "language": "python",
     "metadata": {},
     "outputs": [
      {
       "ename": "LoadError",
       "evalue": "trajectory not defined\nwhile loading In[2], in expression starting on line 3",
       "output_type": "pyerr",
       "traceback": [
        "trajectory not defined\nwhile loading In[2], in expression starting on line 3",
        ""
       ]
      }
     ],
     "prompt_number": 2
    },
    {
     "cell_type": "code",
     "collapsed": false,
     "input": [
      "function updateBeliefState(b::Matrix{Float64},observationModel::Function)\n",
      "    #println(\"updateBeliefState\")\n",
      "    #println(size(b))\n",
      "    scores = observationModel(b)\n",
      "    M = size(b)[2]\n",
      "    bp = zeros(Float64,size(b))\n",
      "    avgScore = sum(scores)/M\n",
      "    r = rand()*avgScore\n",
      "    c = scores[1]\n",
      "    i = 1\n",
      "    for m = 1:M\n",
      "        u = r + (m-1)*avgScore\n",
      "        while(u>c)\n",
      "            i += 1\n",
      "            c += scores[i]\n",
      "        end\n",
      "        bp[:,m] = b[:,i]\n",
      "    end\n",
      "    bp\n",
      "end"
     ],
     "language": "python",
     "metadata": {},
     "outputs": [
      {
       "metadata": {},
       "output_type": "pyout",
       "prompt_number": 3,
       "text": [
        "updateBeliefState (generic function with 1 method)"
       ]
      }
     ],
     "prompt_number": 3
    },
    {
     "cell_type": "code",
     "collapsed": false,
     "input": [
      "function rewardModel(x::Vector{Float64},b::Matrix{Float64},a::Int)\n",
      "    #println(\"rewardModel\")\n",
      "    timeCost = -1\n",
      "    shotCost = -1000\n",
      "    hitReward = 1000\n",
      "    moveCost = -1\n",
      "    r = timeCost\n",
      "    if(a == 6)\n",
      "        r += shotCost\n",
      "        angleToTgt = atan2(b[2,:]-x[2],b[1,:]-x[1])\n",
      "        e = 0:(pi/180):2*pi\n",
      "        #println(size(angleToTgt))\n",
      "        (e,counts) = hist(angleToTgt,e)\n",
      "        #println(e)\n",
      "        (maxCount,maxIdx) = findmax(counts)\n",
      "        #r += (1-(maxCount/size(b)[2]))*timeCost/(1-gam)#hitReward*(maxCount/size(b)[1])\n",
      "        #r += hitReward*(maxCount/size(b)[2])\n",
      "    elseif(a < 5)\n",
      "        r += moveCost\n",
      "    end\n",
      "    r\n",
      "end"
     ],
     "language": "python",
     "metadata": {},
     "outputs": [
      {
       "metadata": {},
       "output_type": "pyout",
       "prompt_number": 4,
       "text": [
        "rewardModel (generic function with 1 method)"
       ]
      }
     ],
     "prompt_number": 4
    },
    {
     "cell_type": "code",
     "collapsed": false,
     "input": [
      "function getObservationModel(xAgent::Vector{Float64}, obs::Vector{Float64})\n",
      "    #println(\"getObsModel\")\n",
      "    sig = diagm([0.1;1.0])\n",
      "    #println(obs)\n",
      "    #println(xAgent)\n",
      "    ang = atan2((obs-xAgent)[2],(obs-xAgent)[1])\n",
      "    R = [cos(ang) -sin(ang) ; sin(ang) cos(ang)]\n",
      "    #println(sig)\n",
      "    #println(R)\n",
      "    sig = R*sig*R'\n",
      "    d = MvNormal(obs,sig)\n",
      "    densityFunction = f -> pdf(d,f)\n",
      "    samplingFunction = r -> rand(d,r)\n",
      "    (densityFunction,samplingFunction)\n",
      "end"
     ],
     "language": "python",
     "metadata": {},
     "outputs": [
      {
       "metadata": {},
       "output_type": "pyout",
       "prompt_number": 5,
       "text": [
        "getObservationModel (generic function with 1 method)"
       ]
      }
     ],
     "prompt_number": 5
    },
    {
     "cell_type": "code",
     "collapsed": false,
     "input": [
      "function fullStateTransition(stateTarget, t)\n",
      "    #println(\"fullStateTrans\")\n",
      "    p = 0.02*randn(2,numStep)\n",
      "    k = [2*randn(numStep)+5  4*randn(numStep)+10]\n",
      "    b = [1.5*randn(numStep)+2   2*randn(numStep)+2]\n",
      "    stateNext = stateTarget\n",
      "\n",
      "    for i in 1:numStep\n",
      "        stateNext[1:2] += dt * stateNext[3:4] + p[:,i]\n",
      "        A = dt * [k[i,1]  0     b[i,1]   0\n",
      "                  0    k[i,2]  0     b[i,2]]\n",
      "        stateNext[3:4] += A*(trajectoryNominal(t) - stateNext)\n",
      "    end\n",
      "\n",
      "    return stateNext\n",
      "end\n",
      "\n",
      "## returns the new particles after a transition period, given a current set of particles\n",
      "function posStateTransition(posTarget, t)\n",
      "    #println(\"posStateTrans\")\n",
      "    numSamples = size(posTarget)[2]    \n",
      "    \n",
      "    stateNominal = trajectoryNominal(t)\n",
      "    stateNext = vcat(posTarget,repmat(stateNominal[3:4],1,numSamples))\n",
      "\n",
      "    for i in 1:numStep\n",
      "        p = 0.02*randn(2,numSamples)\n",
      "        k = [2*randn(numSamples)+5  4*randn(numSamples)+10]'\n",
      "        b = [1.5*randn(numSamples)+2   2*randn(numSamples)+2]'\n",
      "        \n",
      "        ## dot-minus for singleton expansion\n",
      "        err = trajectoryNominal(t) .- stateNext\n",
      "        \n",
      "        stateNext[1:2,:] += dt * stateNext[3:4,:] + p\n",
      "        stateNext[3,:] += dt*(k[1,:].*err[1,:] + b[1,:].*err[3,:])\n",
      "        stateNext[4,:] += dt*(k[2,:].*err[2,:] + b[2,:].*err[4,:])\n",
      "    end\n",
      "\n",
      "    return stateNext[1:2,:]\n",
      "end\n",
      "\n",
      "function trajectoryNominal(t::Float64)\n",
      "    #println(\"trajNominal\")\n",
      "    return [5*cos(pi*t/20)+2\n",
      "            10*sin(pi*t/20)+1\n",
      "            -pi*sin(pi*t/20)\n",
      "            2*pi*cos(pi*t/20)]\n",
      "end"
     ],
     "language": "python",
     "metadata": {},
     "outputs": [
      {
       "metadata": {},
       "output_type": "pyout",
       "prompt_number": 6,
       "text": [
        "trajectoryNominal (generic function with 1 method)"
       ]
      }
     ],
     "prompt_number": 6
    },
    {
     "cell_type": "code",
     "collapsed": false,
     "input": [
      "function particleProject(sampledStatesB::Matrix{Float64}, xAgentNew::Vector{Float64}, t::Float64, a::Int)\n",
      "    #println(\"particleProject\")\n",
      "    numSamplesB = size(sampledStatesB)[2]\n",
      "    \n",
      "    sampledStatesBP = posStateTransition(sampledStatesB, t)\n",
      "    \n",
      "    iSamplesO = rand(1:numSamplesB, nObs)\n",
      "    sampledStatesObsP = posStateTransition(sampledStatesB[:,iSamplesO], t)\n",
      "    \n",
      "    Bp = {}\n",
      "    for i in 1:nObs\n",
      "        obsSampler = getObservationModel(xAgentNew,sampledStatesObsP[:,i])[2]\n",
      "        sampledObs = obsSampler(1)[:,1]\n",
      "        #println(size(sampledObs))\n",
      "        push!(Bp,updateBeliefState(sampledStatesBP, getObservationModel(xAgentNew, sampledObs)[1])) \n",
      "    end\n",
      "    \n",
      "    return Bp\n",
      "end"
     ],
     "language": "python",
     "metadata": {},
     "outputs": [
      {
       "metadata": {},
       "output_type": "pyout",
       "prompt_number": 7,
       "text": [
        "particleProject (generic function with 1 method)"
       ]
      }
     ],
     "prompt_number": 7
    },
    {
     "cell_type": "code",
     "collapsed": false,
     "input": [
      "action = [ 1 0 -1 0 0 0; 0 1 0 -1 0 0]*5\n",
      "numActions = size(action)[2]\n",
      "numSort = 10\n",
      "SHOOT = numActions\n",
      "numStep = 5\n",
      "dt = 0.1\n",
      "gam = 0.999\n",
      "nObs = 10\n",
      "\n",
      "function expandTree(b::Matrix{Float64}, xAgent::Vector{Float64}, depth::Int, t::Float64)\n",
      "    aStar = 0\n",
      "    if depth == 0\n",
      "        return LowerBound(b,xAgent)\n",
      "    else\n",
      "        pq = Collections.PriorityQueue{(Int,Float64),Float64}(Base.Order.Reverse)\n",
      "        for a in 1:numActions\n",
      "            ub = UpperBound(b,xAgent,t,a)\n",
      "            pq[(a,ub)] = ub\n",
      "        end\n",
      "        lowerT = -Inf\n",
      "        (a,ub) = Collections.dequeue!(pq)\n",
      "        while ub > lowerT\n",
      "            #println(a,' ',ub,' ',depth)\n",
      "            xAgentNew = xAgent + action[a]\n",
      "            B = particleProject(b, xAgentNew, t, a)\n",
      "            sum = 0\n",
      "            if(a!=SHOOT)\n",
      "                for bp in B\n",
      "                    sum += expandTree(bp, xAgentNew, depth-1,t)[1]\n",
      "                end\n",
      "            end\n",
      "            lowerTa = rewardModel(xAgent, b, a) + gam/nObs*sum\n",
      "            if lowerTa > lowerT\n",
      "                aStar = a\n",
      "                lowerT = lowerTa\n",
      "            end\n",
      "            if(!isempty(pq))\n",
      "                (a,ub) = Collections.dequeue!(pq)\n",
      "            else\n",
      "                break;\n",
      "            end\n",
      "        end\n",
      "    end\n",
      "    return (lowerT,aStar)\n",
      "end\n",
      "\n",
      "function LowerBound(b, xAgent)\n",
      "    #println(\"LowerBound\")\n",
      "    return rewardModel(xAgent, b, SHOOT)\n",
      "end\n",
      "\n",
      "\n",
      "function UpperBound(b, xAgent, t, a)\n",
      "    #println(\"UpperBound\")\n",
      "    \n",
      "    numSamplesB = size(b)[2]\n",
      "    iSamples = rand(1:numSamplesB,numSort)\n",
      "    sampledStates = posStateTransition(b[:,iSamples],t)\n",
      "    return rewardModel(xAgent,sampledStates,a)\n",
      "end"
     ],
     "language": "python",
     "metadata": {},
     "outputs": [
      {
       "metadata": {},
       "output_type": "pyout",
       "prompt_number": 8,
       "text": [
        "UpperBound (generic function with 1 method)"
       ]
      }
     ],
     "prompt_number": 8
    },
    {
     "cell_type": "code",
     "collapsed": false,
     "input": [
      "@time expandTree(rand(2,100)*30,zeros(2),2,0.0)"
     ],
     "language": "python",
     "metadata": {},
     "outputs": [
      {
       "output_type": "stream",
       "stream": "stdout",
       "text": [
        "elapsed time: 4"
       ]
      },
      {
       "output_type": "stream",
       "stream": "stdout",
       "text": [
        ".614013385 seconds (1445025988 bytes allocated, 17.47% gc time)\n"
       ]
      },
      {
       "metadata": {},
       "output_type": "pyout",
       "prompt_number": 9,
       "text": [
        "(-1000.998001,5)"
       ]
      }
     ],
     "prompt_number": 9
    },
    {
     "cell_type": "code",
     "collapsed": false,
     "input": [
      "numParticles = 100\n",
      "D = 2\n",
      "startState = trajectoryNominal(0.0)\n",
      "stateTrue = reshape(startState[1:2],2,1)\n",
      "xAgent = zeros(2)\n",
      "b = 30*(rand(2,numParticles) - 0.5)\n",
      "\n",
      "obsMod, sampMod = getObservationModel(xAgent, stateTrue[1:2])\n",
      "b = updateBeliefState(b, obsMod)\n",
      "\n",
      "t = 0.0\n",
      "while(t<0.5)\n",
      "    v, a = expandTree(b, xAgent, D, t)\n",
      "    \n",
      "    stateTrue = posStateTransition(stateTrue,t)\n",
      "    b = posStateTransition(b, t)\n",
      "    obsMod, sampMod = getObservationModel(xAgent + action[a], stateTrue[1:2])\n",
      "    b = updateBeliefState(b, obsMod)\n",
      "    t += dt*numStep\n",
      "    print(a)\n",
      "end\n",
      "\n",
      "axes(aspect=1)\n",
      "\n",
      "plot(b[1,:],b[2,:],\"bo\")\n",
      "plot(xAgent[1],xAgent[2],\"rx\")\n",
      "plot(stateTrue[1],stateTrue[2],\"ro\")"
     ],
     "language": "python",
     "metadata": {},
     "outputs": [
      {
       "output_type": "stream",
       "stream": "stdout",
       "text": [
        "5"
       ]
      },
      {
       "metadata": {},
       "output_type": "display_data",
       "png": "[encoded data removed]",
       "text": [
        "Figure(PyObject <matplotlib.figure.Figure object at 0x7fb9f7d48610>)"
       ]
      },
      {
       "metadata": {},
       "output_type": "pyout",
       "prompt_number": 12,
       "text": [
        "1-element Array{Any,1}:\n",
        " PyObject <matplotlib.lines.Line2D object at 0x7fb9da9f6bd0>"
       ]
      }
     ],
     "prompt_number": 12
    },
    {
     "cell_type": "code",
     "collapsed": false,
     "input": [
      "randn(2)"
     ],
     "language": "python",
     "metadata": {},
     "outputs": [
      {
       "metadata": {},
       "output_type": "pyout",
       "prompt_number": 15,
       "text": [
        "2-element Array{Float64,1}:\n",
        " -2.52123\n",
        "  2.01419"
       ]
      }
     ],
     "prompt_number": 15
    },
    {
     "cell_type": "code",
     "collapsed": false,
     "input": [],
     "language": "python",
     "metadata": {},
     "outputs": []
    }
   ],
   "metadata": {}
  }
 ]
}